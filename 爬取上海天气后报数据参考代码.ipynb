{
 "cells": [
  {
   "cell_type": "markdown",
   "metadata": {},
   "source": [
    "**爬取上海天气数据参考代码**"
   ]
  },
  {
   "cell_type": "code",
   "execution_count": 1,
   "metadata": {},
   "outputs": [],
   "source": [
    "import re\n",
    "import urllib.request\n",
    "#定义函数，实现根据url地址爬取每月天气的HTML文档，通过正则表达式提取日期、天气情况、温度、风力风向\n",
    "def get_weather(url):\n",
    "    #爬取网页的html文档\n",
    "    response=urllib.request.urlopen(url,timeout=60)\n",
    "    html=response.read()\n",
    "    htmlstr=html.decode('gbk')\n",
    "    #通过正则表达式提取html文档中的信息\n",
    "    a1=re.findall('title=\"(.+?)上海天气预报\"',htmlstr)  #日期\n",
    "    a2=re.findall('\\r\\n +([\\u4e00-\\u9fa5]+)\\r\\n +/([\\u4e00-\\u9fa5]+)</td>',htmlstr) #天气\n",
    "    a3=re.findall('<td>\\r\\n +(-?\\d)+℃\\r\\n +/\\r\\n +(-?\\d)+℃\\r\\n +</td>',htmlstr)    #温度\n",
    "    a4=re.findall('<td>\\r\\n +([\\u4e00-\\u9fa5]+风) (.+?)级\\r\\n +/([\\u4e00-\\u9fa5]+风) (.+?)级</td>',htmlstr) #风力\n",
    "    return a1,a2,a3,a4"
   ]
  },
  {
   "cell_type": "code",
   "execution_count": 2,
   "metadata": {},
   "outputs": [
    {
     "name": "stdout",
     "output_type": "stream",
     "text": [
      "2014年第1月抓取成功\n",
      "2014年第2月抓取成功\n",
      "2014年第3月抓取成功\n",
      "2014年第4月抓取成功\n",
      "2014年第5月抓取成功\n",
      "2014年第6月抓取成功\n",
      "2014年第7月抓取成功\n",
      "2014年第8月抓取成功\n",
      "2014年第9月抓取成功\n",
      "2014年第10月抓取成功\n",
      "2014年第11月抓取成功\n",
      "2014年第12月抓取成功\n",
      "2015年第1月抓取成功\n",
      "2015年第2月抓取成功\n",
      "2015年第3月抓取成功\n",
      "2015年第4月抓取成功\n",
      "2015年第5月抓取成功\n",
      "2015年第6月抓取成功\n",
      "2015年第7月抓取成功\n",
      "2015年第8月抓取成功\n",
      "2015年第9月抓取成功\n",
      "2015年第10月抓取成功\n",
      "2015年第11月抓取成功\n",
      "2015年第12月抓取成功\n",
      "2016年第1月抓取成功\n",
      "2016年第2月抓取成功\n",
      "2016年第3月抓取成功\n",
      "2016年第4月抓取成功\n",
      "2016年第5月抓取成功\n",
      "2016年第6月抓取成功\n",
      "2016年第7月抓取成功\n",
      "2016年第8月抓取成功\n",
      "2016年第9月抓取成功\n",
      "2016年第10月抓取成功\n",
      "2016年第11月抓取成功\n",
      "2016年第12月抓取成功\n",
      "2017年第1月抓取成功\n",
      "2017年第2月抓取成功\n",
      "2017年第3月抓取成功\n",
      "2017年第4月抓取成功\n",
      "2017年第5月抓取成功\n",
      "2017年第6月抓取成功\n",
      "2017年第7月抓取成功\n",
      "2017年第8月抓取成功\n",
      "2017年第9月抓取成功\n",
      "2017年第10月抓取成功\n",
      "2017年第11月抓取成功\n",
      "2017年第12月抓取成功\n",
      "2018年第1月抓取成功\n",
      "2018年第2月抓取成功\n",
      "2018年第3月抓取成功\n",
      "2018年第4月抓取成功\n",
      "2018年第5月抓取成功\n",
      "2018年第6月抓取成功\n",
      "2018年第7月抓取成功\n",
      "2018年第8月抓取成功\n",
      "2018年第9月抓取成功\n",
      "2018年第10月抓取成功\n",
      "2018年第11月抓取成功\n",
      "2018年第12月抓取成功\n"
     ]
    }
   ],
   "source": [
    "#将每月的数据以列表形式分别添加到date weather temp wind 四个列表中\n",
    "date=[]\n",
    "weather=[]\n",
    "temp=[]\n",
    "wind=[]\n",
    "\n",
    "for year in range(2014,2019):\n",
    "    for i in range(12):\n",
    "        #在双层for循环中构建每月天气网页的url地址\n",
    "        j=i+1\n",
    "        baseurl_start='http://www.tianqihoubao.com/lishi/shanghai'\n",
    "        if j<10:\n",
    "            baseurl_end='/month/'+str(year)+'0'+str(j)+'.html'\n",
    "        else:\n",
    "            baseurl_end='/month/'+str(year)+str(j)+'.html' \n",
    "        url=baseurl_start+baseurl_end\n",
    "        #在try结构中调用get_weather函数，以列表形式将该月的日期 天气情况 温度 风力风向分别返回给t1 t2 t3 t4\n",
    "        try:\n",
    "            t1,t2,t3,t4=get_weather(url)\n",
    "            date.append(t1)\n",
    "            weather.append(t2)\n",
    "            temp.append(t3)\n",
    "            wind.append(t4)            \n",
    "            print(str(year)+'年第'+str(j)+ '月抓取成功') \n",
    "        except:\n",
    "            print(str(year)+'年第'+str(j)+ '月抓取失败') "
   ]
  }
 ],
 "metadata": {
  "anaconda-cloud": {},
  "kernelspec": {
   "display_name": "Python 3",
   "language": "python",
   "name": "python3"
  },
  "language_info": {
   "codemirror_mode": {
    "name": "ipython",
    "version": 3
   },
   "file_extension": ".py",
   "mimetype": "text/x-python",
   "name": "python",
   "nbconvert_exporter": "python",
   "pygments_lexer": "ipython3",
   "version": "3.7.1"
  }
 },
 "nbformat": 4,
 "nbformat_minor": 1
}
